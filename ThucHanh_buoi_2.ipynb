{
 "cells": [
  {
   "cell_type": "markdown",
   "id": "7c452cdc",
   "metadata": {},
   "source": [
    "### **Bài Tập 1: Đăng bài tự động lên Facebook**\n",
    "\n",
    "**Mục tiêu:**\n",
    "Tự động đăng bài lên Facebook sử dụng Python, với tài khoản và nội dung đăng bài lấy từ các tệp văn bản. Sử dụng thư viện `facebook-sdk` hoặc `requests` để thực hiện yêu cầu.\n",
    "\n",
    "---\n",
    "\n",
    "### **Bước 1: Đọc thông tin tài khoản từ tệp văn bản**\n",
    "\n",
    "**Ý tưởng:**\n",
    "Để đăng bài lên Facebook, chúng ta cần đăng nhập vào tài khoản Facebook thông qua mã thông báo (access token). Mã thông báo này sẽ được lấy từ tệp văn bản chứa thông tin tài khoản (email, mật khẩu) hoặc có thể là một mã thông báo đã được tạo trước.\n",
    "\n",
    "**Hướng dẫn:**\n",
    "\n",
    "1. **Đọc tài khoản từ tệp văn bản:**\n",
    "   Chúng ta sẽ đọc email/mật khẩu hoặc mã thông báo từ tệp văn bản để sử dụng khi đăng nhập vào Facebook.\n",
    "\n",
    "2. **Mã lệnh Python:**\n",
    "\n",
    "   ```python\n",
    "   # Đọc thông tin tài khoản từ tệp văn bản\n",
    "   with open('facebook_account.txt', 'r') as file:\n",
    "       account_info = file.readlines()\n",
    "       email = account_info[0].strip()  # Đọc email từ dòng đầu tiên\n",
    "       password = account_info[1].strip()  # Đọc mật khẩu từ dòng thứ hai\n",
    "   ```\n",
    "\n",
    "   **Giải thích:**\n",
    "\n",
    "   * **open('facebook\\_account.txt', 'r')**: Mở tệp văn bản chứa thông tin tài khoản để đọc.\n",
    "   * **readlines()**: Đọc tất cả các dòng trong tệp và lưu vào danh sách.\n",
    "   * **strip()**: Loại bỏ khoảng trắng thừa và ký tự newline.\n",
    "\n",
    "---\n",
    "\n",
    "### **Bước 2: Đọc nội dung bài viết từ tệp văn bản**\n",
    "\n",
    "**Ý tưởng:**\n",
    "Đọc nội dung bài đăng từ tệp văn bản và sử dụng nội dung đó khi đăng bài lên Facebook.\n",
    "\n",
    "**Hướng dẫn:**\n",
    "\n",
    "1. **Đọc nội dung bài viết từ tệp văn bản:**\n",
    "\n",
    "   ```python\n",
    "   # Đọc nội dung bài viết từ tệp văn bản\n",
    "   with open('post_content.txt', 'r') as file:\n",
    "       post_content = file.read()  # Đọc toàn bộ nội dung bài viết\n",
    "   ```\n",
    "\n",
    "   **Giải thích:**\n",
    "\n",
    "   * **read()**: Đọc toàn bộ nội dung trong tệp vào biến `post_content`.\n",
    "\n",
    "---\n",
    "\n",
    "### **Bước 3: Sử dụng API Facebook để đăng bài**\n",
    "\n",
    "**Ý tưởng:**\n",
    "Sử dụng API của Facebook để đăng bài. Bạn sẽ cần một mã thông báo truy cập (access token) để thực hiện các thao tác này. Để có mã thông báo này, bạn có thể sử dụng Facebook Graph API Explorer để tạo mã thông báo cho ứng dụng của bạn.\n",
    "\n",
    "**Hướng dẫn:**\n",
    "\n",
    "1. **Cài đặt thư viện `facebook-sdk`:**\n",
    "\n",
    "   * Cài đặt thư viện `facebook-sdk` thông qua pip:\n",
    "\n",
    "     ```bash\n",
    "     pip install facebook-sdk\n",
    "     ```\n",
    "\n",
    "2. **Sử dụng API Facebook để đăng bài:**\n",
    "\n",
    "   ```python\n",
    "   import facebook\n",
    "\n",
    "   # Nhập mã thông báo truy cập của bạn\n",
    "   access_token = 'YOUR_ACCESS_TOKEN'\n",
    "\n",
    "   # Khởi tạo đối tượng API\n",
    "   graph = facebook.GraphAPI(access_token)\n",
    "\n",
    "   # Đăng bài lên Facebook\n",
    "   graph.put_object(parent_object='me', connection_name='feed', message=post_content)\n",
    "   ```\n",
    "\n",
    "   **Giải thích:**\n",
    "\n",
    "   * **facebook.GraphAPI(access\\_token)**: Khởi tạo đối tượng API với mã thông báo truy cập của bạn.\n",
    "   * **graph.put\\_object()**: Thực hiện yêu cầu POST lên Facebook để đăng bài.\n",
    "   * **parent\\_object='me'**: Đăng bài lên tài khoản của bạn.\n",
    "   * **connection\\_name='feed'**: Chỉ định mục tiêu là feed (dòng thời gian) của người dùng.\n",
    "   * **message=post\\_content**: Nội dung bài đăng."
   ]
  },
  {
   "cell_type": "code",
   "execution_count": 1,
   "id": "f40713f5",
   "metadata": {},
   "outputs": [
    {
     "name": "stdout",
     "output_type": "stream",
     "text": [
      "Requirement already satisfied: facebook-sdk in c:\\users\\khanh\\anaconda3\\lib\\site-packages (3.1.0)\n",
      "Requirement already satisfied: requests in c:\\users\\khanh\\anaconda3\\lib\\site-packages (from facebook-sdk) (2.32.3)\n",
      "Requirement already satisfied: charset-normalizer<4,>=2 in c:\\users\\khanh\\anaconda3\\lib\\site-packages (from requests->facebook-sdk) (3.3.2)\n",
      "Requirement already satisfied: idna<4,>=2.5 in c:\\users\\khanh\\anaconda3\\lib\\site-packages (from requests->facebook-sdk) (3.7)\n",
      "Requirement already satisfied: urllib3<3,>=1.21.1 in c:\\users\\khanh\\anaconda3\\lib\\site-packages (from requests->facebook-sdk) (2.2.3)\n",
      "Requirement already satisfied: certifi>=2017.4.17 in c:\\users\\khanh\\anaconda3\\lib\\site-packages (from requests->facebook-sdk) (2025.1.31)\n"
     ]
    },
    {
     "name": "stderr",
     "output_type": "stream",
     "text": [
      "\n",
      "[notice] A new release of pip is available: 25.0.1 -> 25.1.1\n",
      "[notice] To update, run: python.exe -m pip install --upgrade pip\n"
     ]
    }
   ],
   "source": [
    "!pip install facebook-sdk"
   ]
  },
  {
   "cell_type": "code",
   "execution_count": null,
   "id": "15777a1d",
   "metadata": {},
   "outputs": [
    {
     "name": "stdout",
     "output_type": "stream",
     "text": [
      "✅ Đăng bài thành công!\n",
      "🆔 ID bài viết: 583322181540409_122100060248863592\n"
     ]
    }
   ],
   "source": [
    "import facebook\n",
    "\n",
    "# Access token phải là PAGE TOKEN\n",
    "access_token = \"EAAOzXEBNXp8BO4Y7fiuTkkyZBNKsiL0ZA0mMD2ZCeUEmPy8zAJ1fTqPcCdzslkwKAOxb581DA0QprbEvliLYiKERBKCbsar1HhuevxfavZActvrEv2d24uvQZCwl5G04ZAX3qDqarXVVQFu1ZA5Dn6x5aGUpD8cGvqkpInopvCNgZACBDhH9NUAecvATZAmCLN78Qv1f2ArzZAf1C7K6uXa48pm3RPoziRWSbxxj6gQwZDZD\"\n",
    "\n",
    "# Khởi tạo đối tượng Graph API\n",
    "graph = facebook.GraphAPI(access_token)\n",
    "\n",
    "try:\n",
    "    # Đăng bài lên Trang\n",
    "    response = graph.put_object( parent_object='me', connection_name='feed', message='📢 Sản phẩm mới hôm nay: Áo thun nam cao cấp - chỉ 199K! 🧥')\n",
    "\n",
    "    print(\"✅ Đăng bài thành công!\")\n",
    "    print(\"🆔 ID bài viết:\", response.get('id'))\n",
    "\n",
    "except facebook.GraphAPIError as e:\n",
    "    print(\"❌ Lỗi khi đăng bài\")\n",
    "    print(\"🔴 Mã lỗi:\", e.code)\n",
    "    print(\"📄 Nội dung lỗi:\", e.message)\n"
   ]
  }
 ],
 "metadata": {
  "kernelspec": {
   "display_name": "base",
   "language": "python",
   "name": "python3"
  },
  "language_info": {
   "codemirror_mode": {
    "name": "ipython",
    "version": 3
   },
   "file_extension": ".py",
   "mimetype": "text/x-python",
   "name": "python",
   "nbconvert_exporter": "python",
   "pygments_lexer": "ipython3",
   "version": "3.12.7"
  }
 },
 "nbformat": 4,
 "nbformat_minor": 5
}
